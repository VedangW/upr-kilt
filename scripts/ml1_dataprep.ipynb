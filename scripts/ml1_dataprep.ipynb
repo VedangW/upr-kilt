{
 "cells": [
  {
   "cell_type": "code",
   "execution_count": 102,
   "id": "857e13a8-1c16-4496-b454-6964bdf5e00c",
   "metadata": {},
   "outputs": [],
   "source": [
    "#question answering datasets: trivia qa, natural qa, hotpotqa, eli5\n",
    "def change(obj):\n",
    "    new={}\n",
    "    j_obj=json.loads(obj)\n",
    "    new['id']=j_obj['id']\n",
    "    new['question'] = j_obj['input']\n",
    "    new['answers']=[]\n",
    "    for objs in j_obj['output']:\n",
    "        if objs.get('answer'):\n",
    "            new['answers'].append(objs['answer'])\n",
    "    if len(new['answers'])!=0:\n",
    "        new['labels']=[]\n",
    "    for p_set in j_obj['output']:\n",
    "        if p_set.get('provenance'):\n",
    "            if p_set['provenance'][0].get('section'):\n",
    "                del p_set['provenance'][0]['section']\n",
    "            if p_set['provenance'][0].get('meta'):\n",
    "                del p_set['provenance'][0]['meta']\n",
    "            new['labels'].append({\"provenance\":p_set.get('provenance')})\n",
    "    return new"
   ]
  },
  {
   "cell_type": "code",
   "execution_count": null,
   "id": "def0eea5-9af5-4aae-b47f-6941ee5a9a9b",
   "metadata": {},
   "outputs": [],
   "source": [
    "file1 = open('/common/users/rc1195/ML1/upr-kilt/data/datasets/fever-dev-kilt.jsonl', 'r')\n",
    "file2 = open('fever-dev.json', 'w')\n",
    "Lines = file1.readlines()\n",
    "file1.close()\n",
    "\n",
    "final_obj = {}\n",
    "final_obj['content'] = []\n",
    "\n",
    "for i,obj in enumerate(Lines):\n",
    "    j_str = change(obj)\n",
    "    final_obj['content'].append(j_str)\n",
    "\n",
    "file2.write(json.dumps(final_obj))\n",
    "file2.close()"
   ]
  }
 ],
 "metadata": {
  "kernelspec": {
   "display_name": "Python 3 (ipykernel)",
   "language": "python",
   "name": "python3"
  },
  "language_info": {
   "codemirror_mode": {
    "name": "ipython",
    "version": 3
   },
   "file_extension": ".py",
   "mimetype": "text/x-python",
   "name": "python",
   "nbconvert_exporter": "python",
   "pygments_lexer": "ipython3",
   "version": "3.9.12"
  }
 },
 "nbformat": 4,
 "nbformat_minor": 5
}

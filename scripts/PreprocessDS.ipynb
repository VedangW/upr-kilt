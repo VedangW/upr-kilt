{
 "cells": [
  {
   "cell_type": "code",
   "execution_count": 1,
   "id": "c00a2dfd-8732-45d3-b199-05bf689e43ba",
   "metadata": {},
   "outputs": [],
   "source": [
    "import json"
   ]
  },
  {
   "cell_type": "code",
   "execution_count": 2,
   "id": "3de08d23-2328-4180-a1b6-f81fb1a82ff4",
   "metadata": {},
   "outputs": [],
   "source": [
    "def process_json(obj):\n",
    "    j_obj = json.loads(obj)\n",
    "    j_obj['question'] = j_obj['input']\n",
    "    del j_obj['input']\n",
    "    j_obj['answers'] = []\n",
    "    for objs in j_obj['output']:\n",
    "        if objs.get('answer'):\n",
    "            j_obj['answers'].append(objs['answer'])\n",
    "            del objs['answer']\n",
    "    j_obj['labels'] = j_obj['output']\n",
    "    del j_obj['output']\n",
    "    for p_set in j_obj['labels']:\n",
    "        if p_set.get('provenance'):\n",
    "            if p_set['provenance'][0].get('section'):\n",
    "                del p_set['provenance'][0]['section']\n",
    "            if p_set['provenance'][0].get('meta'):\n",
    "                del p_set['provenance'][0]['meta']\n",
    "    if j_obj.get('meta'):\n",
    "        del j_obj['meta']\n",
    "    return j_obj"
   ]
  },
  {
   "cell_type": "code",
   "execution_count": 3,
   "id": "569b2ab8-5024-4d9d-aa4c-3ddb10ef458c",
   "metadata": {
    "tags": []
   },
   "outputs": [],
   "source": [
    "file1 = open('nq-dev-kilt.jsonl.txt', 'r')\n",
    "file2 = open('nq-dev.json', 'w')\n",
    "Lines = file1.readlines()\n",
    "file1.close()\n",
    "\n",
    "final_obj = {}\n",
    "final_obj['content'] = []\n",
    "\n",
    "for i,obj in enumerate(Lines):\n",
    "    j_str = process_json(obj)\n",
    "    final_obj['content'].append(j_str)\n",
    "    \n",
    "\n",
    "file2.write(json.dumps(final_obj))\n",
    "file2.close()"
   ]
  }
 ],
 "metadata": {
  "kernelspec": {
   "display_name": "Python 3",
   "language": "python",
   "name": "python3"
  },
  "language_info": {
   "codemirror_mode": {
    "name": "ipython",
    "version": 3
   },
   "file_extension": ".py",
   "mimetype": "text/x-python",
   "name": "python",
   "nbconvert_exporter": "python",
   "pygments_lexer": "ipython3",
   "version": "3.9.5"
  }
 },
 "nbformat": 4,
 "nbformat_minor": 5
}
